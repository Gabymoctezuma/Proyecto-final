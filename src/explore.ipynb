{
 "cells": [
  {
   "cell_type": "markdown",
   "metadata": {},
   "source": [
    "# Explore here"
   ]
  },
  {
   "cell_type": "code",
   "execution_count": 65,
   "metadata": {},
   "outputs": [
    {
     "name": "stdout",
     "output_type": "stream",
     "text": [
      "Path to dataset files: /home/vscode/.cache/kagglehub/datasets/loveall/appliances-energy-prediction/versions/1\n"
     ]
    }
   ],
   "source": [
    "import kagglehub\n",
    "\n",
    "# Download latest version\n",
    "path = kagglehub.dataset_download(\"loveall/appliances-energy-prediction\")\n",
    "\n",
    "print(\"Path to dataset files:\", path)"
   ]
  },
  {
   "cell_type": "code",
   "execution_count": 66,
   "metadata": {},
   "outputs": [
    {
     "name": "stdout",
     "output_type": "stream",
     "text": [
      "['KAG_energydata_complete.csv']\n"
     ]
    }
   ],
   "source": [
    "import os\n",
    "\n",
    "dataset_path = \"/home/vscode/.cache/kagglehub/datasets/loveall/appliances-energy-prediction/versions/1\"\n",
    "\n",
    "# Listar archivos en la carpeta\n",
    "files = os.listdir(dataset_path)\n",
    "print(files)"
   ]
  },
  {
   "cell_type": "code",
   "execution_count": 67,
   "metadata": {},
   "outputs": [
    {
     "data": {
      "text/html": [
       "<div>\n",
       "<style scoped>\n",
       "    .dataframe tbody tr th:only-of-type {\n",
       "        vertical-align: middle;\n",
       "    }\n",
       "\n",
       "    .dataframe tbody tr th {\n",
       "        vertical-align: top;\n",
       "    }\n",
       "\n",
       "    .dataframe thead th {\n",
       "        text-align: right;\n",
       "    }\n",
       "</style>\n",
       "<table border=\"1\" class=\"dataframe\">\n",
       "  <thead>\n",
       "    <tr style=\"text-align: right;\">\n",
       "      <th></th>\n",
       "      <th>date</th>\n",
       "      <th>Appliances</th>\n",
       "      <th>lights</th>\n",
       "      <th>T1</th>\n",
       "      <th>RH_1</th>\n",
       "      <th>T2</th>\n",
       "      <th>RH_2</th>\n",
       "      <th>T3</th>\n",
       "      <th>RH_3</th>\n",
       "      <th>T4</th>\n",
       "      <th>...</th>\n",
       "      <th>T9</th>\n",
       "      <th>RH_9</th>\n",
       "      <th>T_out</th>\n",
       "      <th>Press_mm_hg</th>\n",
       "      <th>RH_out</th>\n",
       "      <th>Windspeed</th>\n",
       "      <th>Visibility</th>\n",
       "      <th>Tdewpoint</th>\n",
       "      <th>rv1</th>\n",
       "      <th>rv2</th>\n",
       "    </tr>\n",
       "  </thead>\n",
       "  <tbody>\n",
       "    <tr>\n",
       "      <th>0</th>\n",
       "      <td>2016-01-11 17:00:00</td>\n",
       "      <td>60</td>\n",
       "      <td>30</td>\n",
       "      <td>19.89</td>\n",
       "      <td>47.596667</td>\n",
       "      <td>19.2</td>\n",
       "      <td>44.790000</td>\n",
       "      <td>19.79</td>\n",
       "      <td>44.730000</td>\n",
       "      <td>19.000000</td>\n",
       "      <td>...</td>\n",
       "      <td>17.033333</td>\n",
       "      <td>45.53</td>\n",
       "      <td>6.600000</td>\n",
       "      <td>733.5</td>\n",
       "      <td>92.0</td>\n",
       "      <td>7.000000</td>\n",
       "      <td>63.000000</td>\n",
       "      <td>5.3</td>\n",
       "      <td>13.275433</td>\n",
       "      <td>13.275433</td>\n",
       "    </tr>\n",
       "    <tr>\n",
       "      <th>1</th>\n",
       "      <td>2016-01-11 17:10:00</td>\n",
       "      <td>60</td>\n",
       "      <td>30</td>\n",
       "      <td>19.89</td>\n",
       "      <td>46.693333</td>\n",
       "      <td>19.2</td>\n",
       "      <td>44.722500</td>\n",
       "      <td>19.79</td>\n",
       "      <td>44.790000</td>\n",
       "      <td>19.000000</td>\n",
       "      <td>...</td>\n",
       "      <td>17.066667</td>\n",
       "      <td>45.56</td>\n",
       "      <td>6.483333</td>\n",
       "      <td>733.6</td>\n",
       "      <td>92.0</td>\n",
       "      <td>6.666667</td>\n",
       "      <td>59.166667</td>\n",
       "      <td>5.2</td>\n",
       "      <td>18.606195</td>\n",
       "      <td>18.606195</td>\n",
       "    </tr>\n",
       "    <tr>\n",
       "      <th>2</th>\n",
       "      <td>2016-01-11 17:20:00</td>\n",
       "      <td>50</td>\n",
       "      <td>30</td>\n",
       "      <td>19.89</td>\n",
       "      <td>46.300000</td>\n",
       "      <td>19.2</td>\n",
       "      <td>44.626667</td>\n",
       "      <td>19.79</td>\n",
       "      <td>44.933333</td>\n",
       "      <td>18.926667</td>\n",
       "      <td>...</td>\n",
       "      <td>17.000000</td>\n",
       "      <td>45.50</td>\n",
       "      <td>6.366667</td>\n",
       "      <td>733.7</td>\n",
       "      <td>92.0</td>\n",
       "      <td>6.333333</td>\n",
       "      <td>55.333333</td>\n",
       "      <td>5.1</td>\n",
       "      <td>28.642668</td>\n",
       "      <td>28.642668</td>\n",
       "    </tr>\n",
       "    <tr>\n",
       "      <th>3</th>\n",
       "      <td>2016-01-11 17:30:00</td>\n",
       "      <td>50</td>\n",
       "      <td>40</td>\n",
       "      <td>19.89</td>\n",
       "      <td>46.066667</td>\n",
       "      <td>19.2</td>\n",
       "      <td>44.590000</td>\n",
       "      <td>19.79</td>\n",
       "      <td>45.000000</td>\n",
       "      <td>18.890000</td>\n",
       "      <td>...</td>\n",
       "      <td>17.000000</td>\n",
       "      <td>45.40</td>\n",
       "      <td>6.250000</td>\n",
       "      <td>733.8</td>\n",
       "      <td>92.0</td>\n",
       "      <td>6.000000</td>\n",
       "      <td>51.500000</td>\n",
       "      <td>5.0</td>\n",
       "      <td>45.410389</td>\n",
       "      <td>45.410389</td>\n",
       "    </tr>\n",
       "    <tr>\n",
       "      <th>4</th>\n",
       "      <td>2016-01-11 17:40:00</td>\n",
       "      <td>60</td>\n",
       "      <td>40</td>\n",
       "      <td>19.89</td>\n",
       "      <td>46.333333</td>\n",
       "      <td>19.2</td>\n",
       "      <td>44.530000</td>\n",
       "      <td>19.79</td>\n",
       "      <td>45.000000</td>\n",
       "      <td>18.890000</td>\n",
       "      <td>...</td>\n",
       "      <td>17.000000</td>\n",
       "      <td>45.40</td>\n",
       "      <td>6.133333</td>\n",
       "      <td>733.9</td>\n",
       "      <td>92.0</td>\n",
       "      <td>5.666667</td>\n",
       "      <td>47.666667</td>\n",
       "      <td>4.9</td>\n",
       "      <td>10.084097</td>\n",
       "      <td>10.084097</td>\n",
       "    </tr>\n",
       "  </tbody>\n",
       "</table>\n",
       "<p>5 rows × 29 columns</p>\n",
       "</div>"
      ],
      "text/plain": [
       "                  date  Appliances  lights     T1       RH_1    T2       RH_2  \\\n",
       "0  2016-01-11 17:00:00          60      30  19.89  47.596667  19.2  44.790000   \n",
       "1  2016-01-11 17:10:00          60      30  19.89  46.693333  19.2  44.722500   \n",
       "2  2016-01-11 17:20:00          50      30  19.89  46.300000  19.2  44.626667   \n",
       "3  2016-01-11 17:30:00          50      40  19.89  46.066667  19.2  44.590000   \n",
       "4  2016-01-11 17:40:00          60      40  19.89  46.333333  19.2  44.530000   \n",
       "\n",
       "      T3       RH_3         T4  ...         T9   RH_9     T_out  Press_mm_hg  \\\n",
       "0  19.79  44.730000  19.000000  ...  17.033333  45.53  6.600000        733.5   \n",
       "1  19.79  44.790000  19.000000  ...  17.066667  45.56  6.483333        733.6   \n",
       "2  19.79  44.933333  18.926667  ...  17.000000  45.50  6.366667        733.7   \n",
       "3  19.79  45.000000  18.890000  ...  17.000000  45.40  6.250000        733.8   \n",
       "4  19.79  45.000000  18.890000  ...  17.000000  45.40  6.133333        733.9   \n",
       "\n",
       "   RH_out  Windspeed  Visibility  Tdewpoint        rv1        rv2  \n",
       "0    92.0   7.000000   63.000000        5.3  13.275433  13.275433  \n",
       "1    92.0   6.666667   59.166667        5.2  18.606195  18.606195  \n",
       "2    92.0   6.333333   55.333333        5.1  28.642668  28.642668  \n",
       "3    92.0   6.000000   51.500000        5.0  45.410389  45.410389  \n",
       "4    92.0   5.666667   47.666667        4.9  10.084097  10.084097  \n",
       "\n",
       "[5 rows x 29 columns]"
      ]
     },
     "execution_count": 67,
     "metadata": {},
     "output_type": "execute_result"
    }
   ],
   "source": [
    "import pandas as pd\n",
    "\n",
    "# Ruta del archivo (ajusta según el resultado del paso anterior)\n",
    "csv_file = os.path.join(dataset_path, \"KAG_energydata_complete.csv\")\n",
    "\n",
    "# Cargar el CSV en un DataFrame\n",
    "df = pd.read_csv(csv_file)\n",
    "\n",
    "# Mostrar las primeras filas\n",
    "df.head()"
   ]
  },
  {
   "cell_type": "code",
   "execution_count": 68,
   "metadata": {},
   "outputs": [
    {
     "name": "stdout",
     "output_type": "stream",
     "text": [
      "(19735, 29)\n",
      "<class 'pandas.core.frame.DataFrame'>\n",
      "RangeIndex: 19735 entries, 0 to 19734\n",
      "Data columns (total 29 columns):\n",
      " #   Column       Non-Null Count  Dtype  \n",
      "---  ------       --------------  -----  \n",
      " 0   date         19735 non-null  object \n",
      " 1   Appliances   19735 non-null  int64  \n",
      " 2   lights       19735 non-null  int64  \n",
      " 3   T1           19735 non-null  float64\n",
      " 4   RH_1         19735 non-null  float64\n",
      " 5   T2           19735 non-null  float64\n",
      " 6   RH_2         19735 non-null  float64\n",
      " 7   T3           19735 non-null  float64\n",
      " 8   RH_3         19735 non-null  float64\n",
      " 9   T4           19735 non-null  float64\n",
      " 10  RH_4         19735 non-null  float64\n",
      " 11  T5           19735 non-null  float64\n",
      " 12  RH_5         19735 non-null  float64\n",
      " 13  T6           19735 non-null  float64\n",
      " 14  RH_6         19735 non-null  float64\n",
      " 15  T7           19735 non-null  float64\n",
      " 16  RH_7         19735 non-null  float64\n",
      " 17  T8           19735 non-null  float64\n",
      " 18  RH_8         19735 non-null  float64\n",
      " 19  T9           19735 non-null  float64\n",
      " 20  RH_9         19735 non-null  float64\n",
      " 21  T_out        19735 non-null  float64\n",
      " 22  Press_mm_hg  19735 non-null  float64\n",
      " 23  RH_out       19735 non-null  float64\n",
      " 24  Windspeed    19735 non-null  float64\n",
      " 25  Visibility   19735 non-null  float64\n",
      " 26  Tdewpoint    19735 non-null  float64\n",
      " 27  rv1          19735 non-null  float64\n",
      " 28  rv2          19735 non-null  float64\n",
      "dtypes: float64(26), int64(2), object(1)\n",
      "memory usage: 4.4+ MB\n",
      "None\n"
     ]
    }
   ],
   "source": [
    "print(df.shape)\n",
    "print(df.info())"
   ]
  },
  {
   "cell_type": "code",
   "execution_count": 69,
   "metadata": {},
   "outputs": [
    {
     "data": {
      "text/plain": [
       "Index(['date', 'Appliances', 'lights', 'T1', 'RH_1', 'T2', 'RH_2', 'T3',\n",
       "       'RH_3', 'T4', 'RH_4', 'T5', 'RH_5', 'T6', 'RH_6', 'T7', 'RH_7', 'T8',\n",
       "       'RH_8', 'T9', 'RH_9', 'T_out', 'Press_mm_hg', 'RH_out', 'Windspeed',\n",
       "       'Visibility', 'Tdewpoint', 'rv1', 'rv2'],\n",
       "      dtype='object')"
      ]
     },
     "execution_count": 69,
     "metadata": {},
     "output_type": "execute_result"
    }
   ],
   "source": [
    "df.columns"
   ]
  },
  {
   "cell_type": "code",
   "execution_count": 70,
   "metadata": {},
   "outputs": [
    {
     "data": {
      "text/plain": [
       "(19735, 29)"
      ]
     },
     "execution_count": 70,
     "metadata": {},
     "output_type": "execute_result"
    }
   ],
   "source": [
    "df.shape"
   ]
  },
  {
   "cell_type": "markdown",
   "metadata": {},
   "source": [
    "#ALMACENIMIENTO DE BASE DE DATOS"
   ]
  },
  {
   "cell_type": "code",
   "execution_count": null,
   "metadata": {},
   "outputs": [
    {
     "ename": "OperationalError",
     "evalue": "near \")\": syntax error",
     "output_type": "error",
     "traceback": [
      "\u001b[0;31m---------------------------------------------------------------------------\u001b[0m",
      "\u001b[0;31mOperationalError\u001b[0m                          Traceback (most recent call last)",
      "Cell \u001b[0;32mIn[74], line 8\u001b[0m\n\u001b[1;32m      5\u001b[0m con \u001b[38;5;241m=\u001b[39m sqlite3\u001b[38;5;241m.\u001b[39mconnect(\u001b[38;5;124m\"\u001b[39m\u001b[38;5;124mconsumo_energetico.db\u001b[39m\u001b[38;5;124m\"\u001b[39m)\n\u001b[1;32m      7\u001b[0m \u001b[38;5;66;03m### CREATE: Generate a table named COMPANY with 5 columns: ID, NAME, AGE, ADDRESS and SALARY\u001b[39;00m\n\u001b[0;32m----> 8\u001b[0m \u001b[43mcon\u001b[49m\u001b[38;5;241;43m.\u001b[39;49m\u001b[43mexecute\u001b[49m\u001b[43m(\u001b[49m\u001b[38;5;124;43m\"\"\"\u001b[39;49m\u001b[38;5;124;43mCREATE TABLE consumo_energetico(\u001b[39;49m\n\u001b[1;32m      9\u001b[0m \u001b[38;5;124;43m    ID   INT PRIMARY KEY NOT NULL,\u001b[39;49m\n\u001b[1;32m     10\u001b[0m \u001b[38;5;124;43m    FECHA           DATE     NOT NULL,\u001b[39;49m\n\u001b[1;32m     11\u001b[0m \u001b[38;5;124;43m    ELECTRODOMESTICOS    INT    NOT NULL,\u001b[39;49m\n\u001b[1;32m     12\u001b[0m \u001b[38;5;124;43m    LUCES          INT     NOT NULL,\u001b[39;49m\n\u001b[1;32m     13\u001b[0m \u001b[38;5;124;43m    TEMP_COCINA    FLOAT NOT NULL,\u001b[39;49m\n\u001b[1;32m     14\u001b[0m \u001b[38;5;124;43m    HUM_COCINA     FLOAT NOT NULL,\u001b[39;49m\n\u001b[1;32m     15\u001b[0m \u001b[38;5;124;43m    TEMP_EXTERIOR  FLOAT NOT NULL,\u001b[39;49m\n\u001b[1;32m     16\u001b[0m \u001b[38;5;124;43m    HUM_EXTERIOR   FLOAT NOT NULL,\u001b[39;49m\n\u001b[1;32m     17\u001b[0m \u001b[38;5;124;43m    TEMP_LAVADERO  FLOAT NOT NULL,\u001b[39;49m\n\u001b[1;32m     18\u001b[0m \u001b[38;5;124;43m    HUM_LAVADERO   FLOAT NOT NULL,\u001b[39;49m\n\u001b[1;32m     19\u001b[0m \u001b[38;5;124;43m    TEMP_ESTUDIO   FLOAT NOT NULL,\u001b[39;49m\n\u001b[1;32m     20\u001b[0m \u001b[38;5;124;43m    HUM_ESTUDIO    FLOAT NOT NULL,\u001b[39;49m\n\u001b[1;32m     21\u001b[0m \u001b[38;5;124;43m    TEMP_BAÑO      FLOAT NOT NULL,\u001b[39;49m\n\u001b[1;32m     22\u001b[0m \u001b[38;5;124;43m    HUM_BAÑO       FLOAT NOT NULL,\u001b[39;49m\n\u001b[1;32m     23\u001b[0m \u001b[38;5;124;43m    TEMP_CLOSET    FLOAT NOT NULL,\u001b[39;49m\n\u001b[1;32m     24\u001b[0m \u001b[38;5;124;43m    HUM_CLOSET     FLOAT NOT NULL,\u001b[39;49m\n\u001b[1;32m     25\u001b[0m \u001b[38;5;124;43m    TEMP_HAB_NIÑOS FLOAT NOT NULL,\u001b[39;49m\n\u001b[1;32m     26\u001b[0m \u001b[38;5;124;43m    HUM_HAB_NIÑOS  FLOAT NOT NULL,\u001b[39;49m\n\u001b[1;32m     27\u001b[0m \u001b[38;5;124;43m    TEMP_HAB_PADRES FLOAT NOT NULL,\u001b[39;49m\n\u001b[1;32m     28\u001b[0m \u001b[38;5;124;43m    HUM_HAB_PADRES  FLOAT NOT NULL,\u001b[39;49m\n\u001b[1;32m     29\u001b[0m \u001b[38;5;124;43m    TEM_ESTACION    FLOAT NOT NULL,\u001b[39;49m\n\u001b[1;32m     30\u001b[0m \u001b[38;5;124;43m    HUM_ESTACION    FLOAT NOT NULL,\u001b[39;49m\n\u001b[1;32m     31\u001b[0m \u001b[38;5;124;43m    PRESION_ESTACION  FLOAT NOT NULL,\u001b[39;49m\n\u001b[1;32m     32\u001b[0m \u001b[38;5;124;43m    VEL_VIENTO_ESTACION  FLOAT NOT NULL,\u001b[39;49m\n\u001b[1;32m     33\u001b[0m \u001b[38;5;124;43m    VISIBILIDAD_ESTACION FLOAT NOT NULL,\u001b[39;49m\n\u001b[1;32m     34\u001b[0m \u001b[38;5;124;43m    PUNTO_ROCIO          FLOAT NOT NULL,\u001b[39;49m\n\u001b[1;32m     35\u001b[0m \u001b[38;5;124;43m    VARIABLE_ALEATORIA1  FLOAT NOT NULL,\u001b[39;49m\n\u001b[1;32m     36\u001b[0m \u001b[38;5;124;43m    VARIABLE_ALEATORIA2  FLOAT NOT NULL,\u001b[39;49m\n\u001b[1;32m     37\u001b[0m \u001b[38;5;124;43m    \u001b[39;49m\n\u001b[1;32m     38\u001b[0m \u001b[38;5;124;43m)\u001b[39;49m\u001b[38;5;124;43m\"\"\"\u001b[39;49m\u001b[43m)\u001b[49m\n\u001b[1;32m     40\u001b[0m \u001b[38;5;66;03m### INSERT: Insert records into the COMPANY table\u001b[39;00m\n\u001b[1;32m     41\u001b[0m con\u001b[38;5;241m.\u001b[39mexecute(\u001b[38;5;124m\"\"\"\u001b[39m\u001b[38;5;124mINSERT INTO CONSUMO ENERGETICO VALUES (1,\u001b[39m\u001b[38;5;124m\"\u001b[39m\u001b[38;5;124m2016-01-11 17:10:00\u001b[39m\u001b[38;5;124m\"\u001b[39m\u001b[38;5;124m,25,26,40,15,40,25,18, 15, 20,25,30,40,50,40, 40, 18, 15, 20,25,30,40,50,18,25,26,25)\u001b[39m\u001b[38;5;124m\"\"\"\u001b[39m)\n",
      "\u001b[0;31mOperationalError\u001b[0m: near \")\": syntax error"
     ]
    }
   ],
   "source": [
    "import sqlite3\n",
    "import pandas as pdLL\n",
    "\n",
    "# Connect to the database or create it if it doesn't exist\n",
    "con = sqlite3.connect(\"consumo_energetico.db\")\n",
    "\n",
    "### CREATE: Generate a table named COMPANY with 5 columns: ID, NAME, AGE, ADDRESS and SALARY\n",
    "con.execute(\"\"\"CREATE TABLE consumo_energetico(\n",
    "    FECHA           DATE     NOT NULL,\n",
    "    ELECTRODOMESTICOS    INT    NOT NULL,\n",
    "    LUCES          INT     NOT NULL,\n",
    "    TEMP_COCINA    FLOAT NOT NULL,\n",
    "    HUM_COCINA     FLOAT NOT NULL,\n",
    "    TEMP_EXTERIOR  FLOAT NOT NULL,\n",
    "    HUM_EXTERIOR   FLOAT NOT NULL,\n",
    "    TEMP_LAVADERO  FLOAT NOT NULL,\n",
    "    HUM_LAVADERO   FLOAT NOT NULL,\n",
    "    TEMP_ESTUDIO   FLOAT NOT NULL,\n",
    "    HUM_ESTUDIO    FLOAT NOT NULL,\n",
    "    TEMP_BAÑO      FLOAT NOT NULL,\n",
    "    HUM_BAÑO       FLOAT NOT NULL,\n",
    "    TEMP_CLOSET    FLOAT NOT NULL,\n",
    "    HUM_CLOSET     FLOAT NOT NULL,\n",
    "    TEMP_HAB_NIÑOS FLOAT NOT NULL,\n",
    "    HUM_HAB_NIÑOS  FLOAT NOT NULL,\n",
    "    TEMP_HAB_PADRES FLOAT NOT NULL,\n",
    "    HUM_HAB_PADRES  FLOAT NOT NULL,\n",
    "    TEM_ESTACION    FLOAT NOT NULL,\n",
    "    HUM_ESTACION    FLOAT NOT NULL,\n",
    "    PRESION_ESTACION  FLOAT NOT NULL,\n",
    "    VEL_VIENTO_ESTACION  FLOAT NOT NULL,\n",
    "    VISIBILIDAD_ESTACION FLOAT NOT NULL,\n",
    "    PUNTO_ROCIO          FLOAT NOT NULL,\n",
    "    VARIABLE_ALEATORIA1  FLOAT NOT NULL,\n",
    "    VARIABLE_ALEATORIA2  FLOAT NOT NULL,\n",
    "    \n",
    ")\"\"\")\n",
    "\n",
    "### INSERT: Insert records into the COMPANY table\n",
    "con.execute(\"\"\"INSERT INTO CONSUMO ENERGETICO VALUES (1,\"2016-01-11 17:10:00\",25,26,40,15,40,25,18, 15, 20,25,30,40,50,40, 40, 18, 15, 20,25,30,40,50,18,25,26,25)\"\"\")\n",
    "con.commit()\n",
    "\n",
    "### SELECT: Filter and print some of the table values\n",
    "#  The cursor allows you to define a set of results\n",
    "cursor = con.execute(\"SELECT * from CONSUMO ENERGETICO\")\n",
    "for row in cursor: # Iterate through all the rows of the resulting filter\n",
    "    print(f\"ID = {row[0]} FECHA = {row[1]} ELECTRODOMESTICOS = {row[2]} LUCES = {row[3]}\")\n",
    "\n",
    "# The results can also be stored in a DataFrame using Pandas\n",
    "cursor_df = pd.read_sql_query(\"SELECT * FROM CONSUMO ENERGETICO\", con)\n",
    "\n",
    "### UPDATE: Update a record in the COMPANY table\n",
    "con.execute(\"UPDATE CONSUMO ENERGETICO set ELECTRODOMESTICOS = 60 where ID = 1\")\n",
    "con.commit()\n",
    "\n",
    "### DELETE: Delete a record from the COMPANY table\n",
    "con.execute(\"DELETE from CONSUMO ENERGETICO where ID = 1\")\n",
    "con.commit()\n",
    "\n",
    "### Terminate database connection\n",
    "con.close()"
   ]
  }
 ],
 "metadata": {
  "kernelspec": {
   "display_name": "Python 3",
   "language": "python",
   "name": "python3"
  },
  "language_info": {
   "codemirror_mode": {
    "name": "ipython",
    "version": 3
   },
   "file_extension": ".py",
   "mimetype": "text/x-python",
   "name": "python",
   "nbconvert_exporter": "python",
   "pygments_lexer": "ipython3",
   "version": "3.10.12"
  },
  "orig_nbformat": 4
 },
 "nbformat": 4,
 "nbformat_minor": 2
}
