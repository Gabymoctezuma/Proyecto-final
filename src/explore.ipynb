{
 "cells": [
  {
   "cell_type": "markdown",
   "metadata": {},
   "source": [
    "# Explore here"
   ]
  },
  {
   "cell_type": "code",
   "execution_count": 22,
   "metadata": {},
   "outputs": [
    {
     "name": "stdout",
     "output_type": "stream",
     "text": [
      "Downloading from https://www.kaggle.com/api/v1/datasets/download/kalacheva/london-bike-share-usage-dataset?dataset_version_number=1...\n"
     ]
    },
    {
     "name": "stderr",
     "output_type": "stream",
     "text": [
      "100%|██████████| 24.2M/24.2M [00:00<00:00, 35.4MB/s]"
     ]
    },
    {
     "name": "stdout",
     "output_type": "stream",
     "text": [
      "Extracting files...\n"
     ]
    },
    {
     "name": "stderr",
     "output_type": "stream",
     "text": [
      "\n"
     ]
    },
    {
     "name": "stdout",
     "output_type": "stream",
     "text": [
      "Path to dataset files: /home/vscode/.cache/kagglehub/datasets/kalacheva/london-bike-share-usage-dataset/versions/1\n"
     ]
    }
   ],
   "source": [
    "import kagglehub\n",
    "\n",
    "# Download latest version\n",
    "path = kagglehub.dataset_download(\"kalacheva/london-bike-share-usage-dataset\")\n",
    "\n",
    "print(\"Path to dataset files:\", path)"
   ]
  },
  {
   "cell_type": "code",
   "execution_count": 23,
   "metadata": {},
   "outputs": [
    {
     "name": "stdout",
     "output_type": "stream",
     "text": [
      "['LondonBikeJourneyAug2023.csv']\n"
     ]
    }
   ],
   "source": [
    "import os\n",
    "\n",
    "dataset_path = \"/home/vscode/.cache/kagglehub/datasets/kalacheva/london-bike-share-usage-dataset/versions/1\"\n",
    "\n",
    "# Listar archivos en la carpeta\n",
    "files = os.listdir(dataset_path)\n",
    "print(files)"
   ]
  },
  {
   "cell_type": "code",
   "execution_count": 25,
   "metadata": {},
   "outputs": [
    {
     "data": {
      "text/html": [
       "<div>\n",
       "<style scoped>\n",
       "    .dataframe tbody tr th:only-of-type {\n",
       "        vertical-align: middle;\n",
       "    }\n",
       "\n",
       "    .dataframe tbody tr th {\n",
       "        vertical-align: top;\n",
       "    }\n",
       "\n",
       "    .dataframe thead th {\n",
       "        text-align: right;\n",
       "    }\n",
       "</style>\n",
       "<table border=\"1\" class=\"dataframe\">\n",
       "  <thead>\n",
       "    <tr style=\"text-align: right;\">\n",
       "      <th></th>\n",
       "      <th>Number</th>\n",
       "      <th>Start date</th>\n",
       "      <th>Start station number</th>\n",
       "      <th>Start station</th>\n",
       "      <th>End date</th>\n",
       "      <th>End station number</th>\n",
       "      <th>End station</th>\n",
       "      <th>Bike number</th>\n",
       "      <th>Bike model</th>\n",
       "      <th>Total duration</th>\n",
       "      <th>Total duration (ms)</th>\n",
       "    </tr>\n",
       "  </thead>\n",
       "  <tbody>\n",
       "    <tr>\n",
       "      <th>0</th>\n",
       "      <td>132825189</td>\n",
       "      <td>8/1/2023 0:00</td>\n",
       "      <td>1190</td>\n",
       "      <td>Kennington Lane Rail Bridge, Vauxhall</td>\n",
       "      <td>8/1/2023 0:17</td>\n",
       "      <td>1059</td>\n",
       "      <td>Albert Embankment, Vauxhall</td>\n",
       "      <td>23715</td>\n",
       "      <td>CLASSIC</td>\n",
       "      <td>16m 46s</td>\n",
       "      <td>1006663</td>\n",
       "    </tr>\n",
       "    <tr>\n",
       "      <th>1</th>\n",
       "      <td>132825190</td>\n",
       "      <td>8/1/2023 0:00</td>\n",
       "      <td>1190</td>\n",
       "      <td>Kennington Lane Rail Bridge, Vauxhall</td>\n",
       "      <td>8/1/2023 0:17</td>\n",
       "      <td>1059</td>\n",
       "      <td>Albert Embankment, Vauxhall</td>\n",
       "      <td>41267</td>\n",
       "      <td>CLASSIC</td>\n",
       "      <td>16m 47s</td>\n",
       "      <td>1007128</td>\n",
       "    </tr>\n",
       "    <tr>\n",
       "      <th>2</th>\n",
       "      <td>132825191</td>\n",
       "      <td>8/1/2023 0:00</td>\n",
       "      <td>983</td>\n",
       "      <td>Euston Road, Euston</td>\n",
       "      <td>8/1/2023 0:11</td>\n",
       "      <td>3500</td>\n",
       "      <td>Baldwin Street, St. Luke's</td>\n",
       "      <td>53180</td>\n",
       "      <td>CLASSIC</td>\n",
       "      <td>11m 6s</td>\n",
       "      <td>666395</td>\n",
       "    </tr>\n",
       "    <tr>\n",
       "      <th>3</th>\n",
       "      <td>132825192</td>\n",
       "      <td>8/1/2023 0:01</td>\n",
       "      <td>3479</td>\n",
       "      <td>Old Brompton Road, South Kensington</td>\n",
       "      <td>8/1/2023 0:12</td>\n",
       "      <td>1140</td>\n",
       "      <td>Grosvenor Road, Pimlico</td>\n",
       "      <td>53431</td>\n",
       "      <td>CLASSIC</td>\n",
       "      <td>11m 53s</td>\n",
       "      <td>713059</td>\n",
       "    </tr>\n",
       "    <tr>\n",
       "      <th>4</th>\n",
       "      <td>132825193</td>\n",
       "      <td>8/1/2023 0:01</td>\n",
       "      <td>1219</td>\n",
       "      <td>Lower Marsh, Waterloo</td>\n",
       "      <td>8/1/2023 0:17</td>\n",
       "      <td>200056</td>\n",
       "      <td>Vauxhall Walk, Vauxhall</td>\n",
       "      <td>54758</td>\n",
       "      <td>CLASSIC</td>\n",
       "      <td>16m 3s</td>\n",
       "      <td>963786</td>\n",
       "    </tr>\n",
       "  </tbody>\n",
       "</table>\n",
       "</div>"
      ],
      "text/plain": [
       "      Number     Start date  Start station number  \\\n",
       "0  132825189  8/1/2023 0:00                  1190   \n",
       "1  132825190  8/1/2023 0:00                  1190   \n",
       "2  132825191  8/1/2023 0:00                   983   \n",
       "3  132825192  8/1/2023 0:01                  3479   \n",
       "4  132825193  8/1/2023 0:01                  1219   \n",
       "\n",
       "                           Start station       End date  End station number  \\\n",
       "0  Kennington Lane Rail Bridge, Vauxhall  8/1/2023 0:17                1059   \n",
       "1  Kennington Lane Rail Bridge, Vauxhall  8/1/2023 0:17                1059   \n",
       "2                    Euston Road, Euston  8/1/2023 0:11                3500   \n",
       "3    Old Brompton Road, South Kensington  8/1/2023 0:12                1140   \n",
       "4                  Lower Marsh, Waterloo  8/1/2023 0:17              200056   \n",
       "\n",
       "                   End station  Bike number Bike model Total duration  \\\n",
       "0  Albert Embankment, Vauxhall        23715    CLASSIC        16m 46s   \n",
       "1  Albert Embankment, Vauxhall        41267    CLASSIC        16m 47s   \n",
       "2   Baldwin Street, St. Luke's        53180    CLASSIC         11m 6s   \n",
       "3      Grosvenor Road, Pimlico        53431    CLASSIC        11m 53s   \n",
       "4      Vauxhall Walk, Vauxhall        54758    CLASSIC         16m 3s   \n",
       "\n",
       "   Total duration (ms)  \n",
       "0              1006663  \n",
       "1              1007128  \n",
       "2               666395  \n",
       "3               713059  \n",
       "4               963786  "
      ]
     },
     "execution_count": 25,
     "metadata": {},
     "output_type": "execute_result"
    }
   ],
   "source": [
    "import pandas as pd\n",
    "\n",
    "# Ruta del archivo (ajusta según el resultado del paso anterior)\n",
    "csv_file = os.path.join(dataset_path, \"LondonBikeJourneyAug2023.csv\")\n",
    "\n",
    "# Cargar el CSV en un DataFrame\n",
    "df = pd.read_csv(csv_file)\n",
    "\n",
    "# Mostrar las primeras filas\n",
    "df.head()"
   ]
  },
  {
   "cell_type": "code",
   "execution_count": 26,
   "metadata": {},
   "outputs": [
    {
     "name": "stdout",
     "output_type": "stream",
     "text": [
      "(776527, 11)\n",
      "<class 'pandas.core.frame.DataFrame'>\n",
      "RangeIndex: 776527 entries, 0 to 776526\n",
      "Data columns (total 11 columns):\n",
      " #   Column                Non-Null Count   Dtype \n",
      "---  ------                --------------   ----- \n",
      " 0   Number                776527 non-null  int64 \n",
      " 1   Start date            776527 non-null  object\n",
      " 2   Start station number  776527 non-null  int64 \n",
      " 3   Start station         776527 non-null  object\n",
      " 4   End date              776527 non-null  object\n",
      " 5   End station number    776527 non-null  int64 \n",
      " 6   End station           776527 non-null  object\n",
      " 7   Bike number           776527 non-null  int64 \n",
      " 8   Bike model            776527 non-null  object\n",
      " 9   Total duration        776527 non-null  object\n",
      " 10  Total duration (ms)   776527 non-null  int64 \n",
      "dtypes: int64(5), object(6)\n",
      "memory usage: 65.2+ MB\n",
      "None\n"
     ]
    }
   ],
   "source": [
    "print(df.shape)\n",
    "print(df.info())"
   ]
  },
  {
   "cell_type": "code",
   "execution_count": 27,
   "metadata": {},
   "outputs": [
    {
     "data": {
      "text/plain": [
       "Index(['Number', 'Start date', 'Start station number', 'Start station',\n",
       "       'End date', 'End station number', 'End station', 'Bike number',\n",
       "       'Bike model', 'Total duration', 'Total duration (ms)'],\n",
       "      dtype='object')"
      ]
     },
     "execution_count": 27,
     "metadata": {},
     "output_type": "execute_result"
    }
   ],
   "source": [
    "df.columns"
   ]
  }
 ],
 "metadata": {
  "kernelspec": {
   "display_name": "Python 3",
   "language": "python",
   "name": "python3"
  },
  "language_info": {
   "codemirror_mode": {
    "name": "ipython",
    "version": 3
   },
   "file_extension": ".py",
   "mimetype": "text/x-python",
   "name": "python",
   "nbconvert_exporter": "python",
   "pygments_lexer": "ipython3",
   "version": "3.10.12"
  },
  "orig_nbformat": 4
 },
 "nbformat": 4,
 "nbformat_minor": 2
}
